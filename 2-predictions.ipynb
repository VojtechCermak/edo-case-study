{
 "cells": [
  {
   "cell_type": "code",
   "execution_count": 2,
   "id": "dca4a8a8-be2c-465f-b17e-6b94798b66b2",
   "metadata": {},
   "outputs": [],
   "source": [
    "from sklearn.model_selection import train_test_split\n",
    "from xgboost import XGBClassifier\n",
    "from sklearn.metrics import confusion_matrix, classification_report\n",
    "import matplotlib.pyplot as plt\n",
    "import seaborn as sns\n",
    "from tqdm import tqdm\n",
    "import pandas as pd\n",
    "import numpy as np\n",
    "\n",
    "\n",
    "def categorize_target(change):\n",
    "    if change < -0.05:\n",
    "        return '-5pct'\n",
    "    elif -0.05 <= change < -0.02:\n",
    "        return '-2pct'\n",
    "    elif -0.02 <= change <= 0.02:\n",
    "        return '0pct'\n",
    "    elif 0.02 < change <= 0.05:\n",
    "        return '+2pct'\n",
    "    elif change > 0.05:\n",
    "        return '+5pct'\n",
    "    else:\n",
    "        return None\n",
    "\n",
    "\n",
    "def prepare_xgboost_data():\n",
    "    df = pd.read_csv(\n",
    "        'data/data-hour-clean.csv',\n",
    "        parse_dates=['ts',],\n",
    "        index_col='ts',\n",
    "    ).copy()\n",
    "\n",
    "    # Some indicators\n",
    "    df['returns'] = df['close'].pct_change()\n",
    "    df['high_low_ratio'] = df['high'] / df['low']\n",
    "    df['close_open_ratio'] = df['close'] / df['open']\n",
    "    df['true_range'] = np.maximum(\n",
    "        df['high'] - df['low'],\n",
    "        np.maximum(\n",
    "            abs(df['high'] - df['close'].shift(1)),\n",
    "            abs(df['low'] - df['close'].shift(1))\n",
    "        )\n",
    "    )\n",
    "\n",
    "    # Historical values\n",
    "    for period in [1, 2, 3, 6, 12, 24, 48, 126]:\n",
    "        if period > 2:\n",
    "            df[f'returns_mean_{period}h'] = df['returns'].rolling(period).mean()\n",
    "            df[f'returns_std_{period}h'] = df['returns'].rolling(period).std()\n",
    "        \n",
    "            # Price levels\n",
    "            df[f'close_sma_{period}h'] = df['close'].rolling(period).mean()\n",
    "            df[f'close_ema_{period}h'] = df['close'].ewm(span=period).mean()\n",
    "        \n",
    "            # Volatility\n",
    "            df[f'true_range_mean_{period}h'] = df['true_range'].rolling(period).mean()\n",
    "            df[f'high_low_ratio_mean_{period}h'] = df['high_low_ratio'].rolling(period).mean()\n",
    "        \n",
    "            # Volume\n",
    "            df[f'volume_mean_{period}h'] = df['volume'].rolling(period).mean()\n",
    "            df[f'volume_std_{period}h'] = df['volume'].rolling(period).std()\n",
    "                \n",
    "            # Intraday volatility features\n",
    "            df[f'logret_intra_vol_mean_{period}h'] = df['logret_intra_vol'].rolling(period).mean()\n",
    "            df[f'logret_intra_skew_mean_{period}h'] = df['logret_intra_skew'].rolling(period).mean()\n",
    "            df[f'logret_intra_kurt_mean_{period}h'] = df['logret_intra_kurt'].rolling(period).mean()\n",
    "\n",
    "        if period > 3:\n",
    "            df[f'returns_vol_{period}h'] = df['returns'].rolling(period).std()\n",
    "            df[f'returns_skew_{period}h'] = df['returns'].rolling(period).skew()\n",
    "            df[f'returns_kurt_{period}h'] = df['returns'].rolling(period).kurt()\n",
    "    \n",
    "    df = df.dropna()\n",
    "    return df\n",
    "\n",
    "\n",
    "def prepare_ts_data():\n",
    "    df = pd.read_csv(\n",
    "        'data/data-hour-clean.csv',\n",
    "        parse_dates=['ts',],\n",
    "        index_col='ts',\n",
    "    ).sort_index()\n",
    "\n",
    "    # Some indicators\n",
    "    df['returns'] = df['close'].pct_change()\n",
    "    df['high_low_ratio'] = df['high'] / df['low']\n",
    "    df['close_open_ratio'] = df['close'] / df['open']\n",
    "    df['true_range'] = np.maximum(\n",
    "        df['high'] - df['low'],\n",
    "        np.maximum(\n",
    "            abs(df['high'] - df['close'].shift(1)),\n",
    "            abs(df['low'] - df['close'].shift(1))\n",
    "        )\n",
    "    )\n",
    "    df = df.dropna()\n",
    "    return df\n",
    "\n",
    "\n",
    "def plot_cm(pred, gt):\n",
    "    print(\"Accuracy\", accuracy_score(gt, pred))\n",
    "\n",
    "    classes = ['+5pct', '+2pct', '0pct', '-2pct', '-5pct']\n",
    "    cm = confusion_matrix(gt, pred, labels=classes)\n",
    "    cm = (cm / len(gt)) * 100\n",
    "    plt.figure(figsize=(6, 4))\n",
    "\n",
    "    sns.heatmap(cm, annot=True, cmap='Blues', xticklabels=classes, yticklabels=classes)\n",
    "    \n",
    "    # Labeling the plot\n",
    "    plt.title(\"Confusion Matrix (normalized in %)\")\n",
    "    plt.xlabel(\"Predicted\")\n",
    "    plt.ylabel(\"GT\")\n",
    "    \n",
    "    # Show the plot\n",
    "    plt.show()"
   ]
  },
  {
   "cell_type": "code",
   "execution_count": null,
   "id": "43fe33ad-fb8f-4967-b7ac-972d624d1e48",
   "metadata": {},
   "outputs": [],
   "source": []
  },
  {
   "cell_type": "code",
   "execution_count": null,
   "id": "d891d7dd-dd3c-4a05-9dcc-445ecc09a310",
   "metadata": {},
   "outputs": [],
   "source": []
  },
  {
   "cell_type": "markdown",
   "id": "ed775c7a-4acb-4ec2-8ab5-42b7a53479ae",
   "metadata": {},
   "source": [
    "# 1. Baseline\n",
    "- Prediction is the most frequest class - 0pct change."
   ]
  },
  {
   "cell_type": "code",
   "execution_count": 221,
   "id": "54922a83-9fdd-4bf2-96f7-12513de99623",
   "metadata": {},
   "outputs": [
    {
     "name": "stdout",
     "output_type": "stream",
     "text": [
      "Accuracy (Val)  0.9032258064516129\n",
      "Accuracy (Test) 0.8069444444444445\n"
     ]
    }
   ],
   "source": [
    "df = prepare_xgboost_data()\n",
    "\n",
    "le = LabelEncoder()\n",
    "\n",
    "y = le.fit_transform(df['target'])\n",
    "\n",
    "print('Accuracy (Val) ', np.mean(y[df['split'] == 'val'] == 4))\n",
    "print('Accuracy (Test)', np.mean(y[df['split'] == 'test'] == 4))"
   ]
  },
  {
   "cell_type": "code",
   "execution_count": null,
   "id": "07e5ff26-89a8-41ca-bdd3-8fcd58f64b65",
   "metadata": {},
   "outputs": [],
   "source": []
  },
  {
   "cell_type": "markdown",
   "id": "f272db5a-9421-4b8b-a1ee-c3d885ace070",
   "metadata": {},
   "source": [
    "# 2. XGBoost Classifier and Regressor\n",
    "- Classifier - Perform classification directly\n",
    "- Regressor - Perform first regression and then bin results into classes\n",
    "- Random search over 100 hyper parameters on validation set\n"
   ]
  },
  {
   "cell_type": "code",
   "execution_count": 78,
   "id": "20b43b7c-3848-4fe0-a9d0-fef752429631",
   "metadata": {},
   "outputs": [],
   "source": [
    "import xgboost as xgb\n",
    "from sklearn.preprocessing import LabelEncoder\n",
    "from sklearn.metrics import confusion_matrix, accuracy_score\n",
    "import random\n",
    "\n",
    "\n",
    "class XGBoostClassifier:\n",
    "    \"\"\" XGBoost model for multi-class classification. \"\"\"\n",
    "\n",
    "    def __init__(self, class_labels, **kwargs):\n",
    "        self.class_labels = class_labels  # List of class labels\n",
    "        self.model = None\n",
    "        self.kwargs = kwargs\n",
    "\n",
    "    def fit(self, X_train, y_train):\n",
    "        data = xgb.DMatrix(X_train, label=y_train)\n",
    "        params = {\n",
    "            \"objective\": \"multi:softmax\",\n",
    "            \"num_class\": len(self.class_labels),\n",
    "            \"eval_metric\": \"merror\",\n",
    "        } | self.kwargs\n",
    "        num_boost_round = params.pop('num_boost_round')\n",
    "        self.model = xgb.train(params, data, num_boost_round=num_boost_round)\n",
    "\n",
    "    def predict(self, X_test):\n",
    "        data = xgb.DMatrix(X_test)\n",
    "        preds = self.model.predict(data)\n",
    "        predicted_labels = [self.class_labels[int(pred)] for pred in preds]\n",
    "        return predicted_labels\n",
    "\n",
    "\n",
    "class XGBoostRegressor:\n",
    "    \"\"\" XGBoost model for regression. \"\"\"\n",
    "\n",
    "    def __init__(self, transform_pred=None, **kwargs):\n",
    "        self.transform_pred = transform_pred\n",
    "        self.model = None\n",
    "        self.kwargs = kwargs\n",
    "\n",
    "\n",
    "    def fit(self, X_train, y_train):\n",
    "        data = xgb.DMatrix(X_train, label=y_train)\n",
    "        \n",
    "        params = {\n",
    "            \"objective\": \"reg:squarederror\",\n",
    "            \"eval_metric\": \"rmse\",\n",
    "        } | self.kwargs\n",
    "        num_boost_round = params.pop('num_boost_round')\n",
    "        self.model = xgb.train(params, data, num_boost_round=num_boost_round)\n",
    "\n",
    "    def predict(self, X_test):\n",
    "        data = xgb.DMatrix(X_test)\n",
    "        preds = self.model.predict(data)\n",
    "        if self.transform_pred is not None:\n",
    "            preds = [self.transform_pred(pred) for pred in preds]\n",
    "        return preds\n",
    "\n",
    "\n",
    "def random_param_combination():\n",
    "    param_grid = {\n",
    "        'learning_rate': [0.01, 0.1, 0.2, 0.3, 0.5, 0.7],\n",
    "        'num_boost_round': [20, 50, 100, 200],\n",
    "        'max_depth': [3, 5, 7, 9, 10],\n",
    "        'min_child_weight': [1, 3, 5, 7],\n",
    "        'subsample': [0.6, 0.7, 0.8, 0.9, 1.0],\n",
    "        'colsample_bytree': [0.6, 0.7, 0.8, 1.0],\n",
    "        'gamma': [0, 0.1, 0.2, 0.5, 1.0],\n",
    "        'lambda': [0, 0.1, 1, 10],\n",
    "        'alpha': [0, 0.1, 1, 10],\n",
    "    }\n",
    "    return {param: random.choice(values) for param, values in param_grid.items()}\n",
    "\n"
   ]
  },
  {
   "cell_type": "code",
   "execution_count": 230,
   "id": "87c13e3a-38e4-431d-9e92-adb0d2256790",
   "metadata": {},
   "outputs": [],
   "source": [
    "df = prepare_xgboost_data()\n",
    "\n",
    "le = LabelEncoder()\n",
    "y = le.fit_transform(df['target'])\n",
    "x = df.drop(columns=['split', 'target_ret', 'target'])\n",
    "\n",
    "y_train = y[df['split'] == 'train']\n",
    "y_reg_train = df[df['split'] == 'train']['target_ret'].values\n",
    "x_train = x[df['split'] == 'train']\n",
    "\n",
    "y_val = y[df['split'] == 'val']\n",
    "y_val = df[df['split'] == 'val']['target_ret'].values\n",
    "x_val = x[df['split'] == 'val']\n",
    "gt_val = df[df['split'] == 'val']['target'].values"
   ]
  },
  {
   "cell_type": "markdown",
   "id": "9978257b-9598-45c2-a7fa-2bc25d2641f8",
   "metadata": {},
   "source": [
    "### Find best hyperparameters"
   ]
  },
  {
   "cell_type": "code",
   "execution_count": 233,
   "id": "718c3a12-ca40-4180-9cda-f4cfe69479d6",
   "metadata": {},
   "outputs": [
    {
     "name": "stderr",
     "output_type": "stream",
     "text": [
      "100%|████████████████████████████████████████████████████████████████████████████████████████████████████████████████████| 100/100 [10:23<00:00,  6.23s/it]\n"
     ]
    }
   ],
   "source": [
    "random.seed(10)\n",
    "results = []\n",
    "\n",
    "for i in tqdm(range(100)):\n",
    "    params = random_param_combination()\n",
    "    \n",
    "    model = XGBoostClassifier(class_labels=le.classes_, **params)\n",
    "    model.fit(x_train, y_train)\n",
    "    preds = model.predict(x_val)\n",
    "    acc_cls = accuracy_score(gt_val, preds)\n",
    "\n",
    "    model = XGBoostRegressor(**params)\n",
    "    model.fit(x_train, y_reg_train)\n",
    "    preds = model.predict(x_val)\n",
    "    preds = pd.Series(preds).apply(categorize_target)\n",
    "    acc_reg = accuracy_score(gt_val, preds)\n",
    "\n",
    "    params['acc_cls'] = acc_cls\n",
    "    params['acc_reg'] = acc_reg\n",
    "    results.append(params)\n"
   ]
  },
  {
   "cell_type": "code",
   "execution_count": 265,
   "id": "8aa7f8b5-b6b0-4ba1-9ed5-b1ad02539475",
   "metadata": {},
   "outputs": [
    {
     "data": {
      "text/plain": [
       "acc_cls    0.909946\n",
       "acc_reg    0.903226\n",
       "dtype: float64"
      ]
     },
     "metadata": {},
     "output_type": "display_data"
    },
    {
     "name": "stdout",
     "output_type": "stream",
     "text": [
      "\n",
      "\n"
     ]
    },
    {
     "data": {
      "text/plain": [
       "learning_rate         0.300000\n",
       "num_boost_round     200.000000\n",
       "max_depth             5.000000\n",
       "min_child_weight      5.000000\n",
       "subsample             0.900000\n",
       "colsample_bytree      0.800000\n",
       "gamma                 1.000000\n",
       "lambda               10.000000\n",
       "alpha                 1.000000\n",
       "acc_cls               0.909946\n",
       "acc_reg               0.903226\n",
       "Name: 23, dtype: float64"
      ]
     },
     "metadata": {},
     "output_type": "display_data"
    }
   ],
   "source": [
    "df_xgboost = pd.DataFrame(results)\n",
    "display(df_xgboost[['acc_cls', 'acc_reg']].max())\n",
    "best_hp = df_xgboost.iloc[df_xgboost['acc_cls'].idxmax()]\n",
    "df_xgboost.to_csv('results/xgboost_val.csv')\n",
    "\n",
    "print('\\n')\n",
    "display(best_hp)"
   ]
  },
  {
   "cell_type": "code",
   "execution_count": null,
   "id": "e7bfd889-8ab6-4085-8fb9-af0cb2a0a4bf",
   "metadata": {},
   "outputs": [],
   "source": []
  },
  {
   "cell_type": "markdown",
   "id": "88994e33-efa3-4a50-8939-73850971be0c",
   "metadata": {},
   "source": [
    "### Final Prediction\n",
    "\n",
    "Use hyperparameters:\n",
    "\n",
    "- 'learning_rate': 0.3,\n",
    "- 'num_boost_round': 200.0,\n",
    "- 'max_depth': 5.0,\n",
    "- 'min_child_weight': 5.0,\n",
    "- 'subsample': 0.9,\n",
    "- 'colsample_bytree': 0.8,\n",
    "- 'gamma': 1.0,\n",
    "- 'lambda': 10.0,\n",
    "- 'alpha': 1.0\n",
    " "
   ]
  },
  {
   "cell_type": "code",
   "execution_count": 254,
   "id": "52ab7c8f-3f78-4c0f-9df7-53e3775140ed",
   "metadata": {},
   "outputs": [],
   "source": [
    "df = prepare_xgboost_data()\n",
    "\n",
    "le = LabelEncoder()\n",
    "y = le.fit_transform(df['target'])\n",
    "x = df.drop(columns=['split', 'target_ret', 'target'])\n",
    "\n",
    "y_train = y[(df['split'] == 'train') | (df['split'] == 'val')]\n",
    "x_train = x[(df['split'] == 'train') | (df['split'] == 'val')]\n",
    "\n",
    "y_test = y[df['split'] == 'test']\n",
    "x_test = x[df['split'] == 'test']\n",
    "gt_test = df[df['split'] == 'test']['target'].values"
   ]
  },
  {
   "cell_type": "code",
   "execution_count": 257,
   "id": "8e896471-0468-4a34-bf8e-49db0d6bb083",
   "metadata": {},
   "outputs": [],
   "source": [
    "params = {\n",
    "'learning_rate': 0.3,\n",
    "'num_boost_round': 200,\n",
    "'max_depth': 5,\n",
    "'min_child_weight': 5.0,\n",
    "'subsample': 0.9,\n",
    "'colsample_bytree': 0.8,\n",
    "'gamma': 1.0,\n",
    "'lambda': 10.0,\n",
    "'alpha': 1.0\n",
    "}\n",
    "\n",
    "model = XGBoostClassifier(class_labels=le.classes_, **params)\n",
    "model.fit(x_train, y_train)\n",
    "preds = model.predict(x_test)\n",
    "acc_cls = accuracy_score(gt_test, preds)\n"
   ]
  },
  {
   "cell_type": "code",
   "execution_count": null,
   "id": "49bba372-bf0d-44a5-b34c-6c7b9c843f9e",
   "metadata": {},
   "outputs": [],
   "source": []
  },
  {
   "cell_type": "markdown",
   "id": "849a49cc-e29d-4379-a3bb-fb990929925e",
   "metadata": {},
   "source": [
    "### Evaluation\n",
    "- Does not beat simple baseline."
   ]
  },
  {
   "cell_type": "code",
   "execution_count": 315,
   "id": "8a6a6536-5947-43be-b0fc-2acff642c90c",
   "metadata": {},
   "outputs": [
    {
     "name": "stdout",
     "output_type": "stream",
     "text": [
      "Accuracy 0.7597222222222222\n"
     ]
    },
    {
     "data": {
      "image/png": "[encoded data removed]",
      "text/plain": [
       "<Figure size 600x400 with 2 Axes>"
      ]
     },
     "metadata": {},
     "output_type": "display_data"
    }
   ],
   "source": [
    "plot_cm(preds, gt_test)"
   ]
  },
  {
   "cell_type": "code",
   "execution_count": null,
   "id": "cfe2a8c3-b1ce-44d0-9b1f-d34bc6d76312",
   "metadata": {},
   "outputs": [],
   "source": []
  },
  {
   "cell_type": "markdown",
   "id": "551b1c95-612e-4d34-8a0a-53d2f6ec3a4a",
   "metadata": {},
   "source": [
    "# Temporal Fusion Transformer\n",
    "- Implementation is from pytorch_forecasting library - https://pytorch-forecasting.readthedocs.io/en/stable/index.html\n",
    "- Hyperparameters are from the pytorch_forecasting README page, except context length and prediction lenght."
   ]
  },
  {
   "cell_type": "code",
   "execution_count": 7,
   "id": "b689a8b8-a75f-43f8-a9ae-2f963e7310f6",
   "metadata": {},
   "outputs": [],
   "source": [
    "import torch\n",
    "import lightning.pytorch as pl\n",
    "from lightning.pytorch.loggers import TensorBoardLogger\n",
    "from lightning.pytorch.callbacks import EarlyStopping, LearningRateMonitor\n",
    "from lightning.pytorch.tuner import Tuner\n",
    "from pytorch_forecasting import TimeSeriesDataSet, TemporalFusionTransformer, QuantileLoss\n",
    "\n",
    "\n",
    "class TFTModel:\n",
    "    def __init__(\n",
    "        self,\n",
    "        batch_size=128,\n",
    "    ):\n",
    "        self.batch_size = batch_size\n",
    "        self.model = None\n",
    "\n",
    "    def fit(self, data):\n",
    "        # Create dataset\n",
    "\n",
    "        self.dataset_train = TimeSeriesDataSet(\n",
    "            data.query(\"split == 'train'\"),\n",
    "            time_idx=\"time_idx\",\n",
    "            target=\"target_ret\",\n",
    "            group_ids=[\"series_id\"],\n",
    "            max_encoder_length=168, # One week\n",
    "            max_prediction_length=10, # For stability\n",
    "            time_varying_known_reals=[\n",
    "                \"high\", \"low\", \"close\", \"volume\", \"logret_intra_vol\", \"logret_intra_skew\", \n",
    "                \"logret_intra_kurt\", \"returns\", \"high_low_ratio\", \"close_open_ratio\", \"true_range\",\n",
    "            ],\n",
    "            time_varying_unknown_reals=[\"target_ret\"],\n",
    "        )\n",
    "\n",
    "        self.dataset_val = TimeSeriesDataSet.from_dataset(\n",
    "            self.dataset_train,\n",
    "            data.query(\"split == 'val'\"),\n",
    "            stop_randomization=True\n",
    "        )\n",
    "\n",
    "\n",
    "        # Create dataloaders\n",
    "        loader_train = self.dataset_train.to_dataloader(\n",
    "            train=True,\n",
    "            batch_size=self.batch_size,\n",
    "            num_workers=2\n",
    "        )\n",
    "        loader_val = self.dataset_val.to_dataloader(\n",
    "            train=False,\n",
    "            batch_size=self.batch_size,\n",
    "            num_workers=2\n",
    "        )\n",
    "\n",
    "        # Define Trainer\n",
    "        trainer = pl.Trainer(\n",
    "            max_epochs=100,\n",
    "            accelerator=\"auto\",\n",
    "            gradient_clip_val=0.1,\n",
    "            limit_train_batches=30,\n",
    "            callbacks=[\n",
    "                EarlyStopping(\n",
    "                    monitor=\"val_loss\",\n",
    "                    min_delta=1e-4,\n",
    "                    patience=3,\n",
    "                    verbose=True,\n",
    "                    mode=\"min\"\n",
    "                ),\n",
    "                LearningRateMonitor()\n",
    "            ],\n",
    "            logger=TensorBoardLogger(\"lightning_logs\")\n",
    "        )\n",
    "        \n",
    "        # Initialize the model\n",
    "        self.model = TemporalFusionTransformer.from_dataset(\n",
    "            self.dataset_train,\n",
    "            hidden_size=32,\n",
    "            attention_head_size=1,\n",
    "            dropout=0.1,\n",
    "            hidden_continuous_size=16,\n",
    "            loss=QuantileLoss(),\n",
    "            log_interval=2,\n",
    "            learning_rate=0.03,\n",
    "            reduce_on_plateau_patience=4\n",
    "        )\n",
    "        print(f\"Number of parameters in network: {self.model.size()/1e3:.1f}k\")\n",
    "\n",
    "        # Find optimal learning rate\n",
    "        res = Tuner(trainer).lr_find(\n",
    "            self.model,\n",
    "            train_dataloaders=loader_train,\n",
    "            val_dataloaders=loader_val,\n",
    "            early_stop_threshold=1000.0,\n",
    "            max_lr=0.3,\n",
    "        )\n",
    "\n",
    "        # Fit the model\n",
    "        trainer.fit(\n",
    "            self.model,\n",
    "            train_dataloaders=loader_train,\n",
    "            val_dataloaders=loader_val,\n",
    "        )\n",
    "    \n",
    "\n",
    "    def predict(self, data):\n",
    "        dataset = TimeSeriesDataSet.from_dataset(\n",
    "            self.dataset_train,\n",
    "            data,\n",
    "            stop_randomization=True\n",
    "        )\n",
    "        loader = dataset.to_dataloader(train=False, batch_size=self.batch_size)        \n",
    "        preds = self.model.predict(loader, return_x=True)\n",
    "        return preds"
   ]
  },
  {
   "cell_type": "code",
   "execution_count": null,
   "id": "1f4f17c1-c868-431e-a86d-ed336e72f9c4",
   "metadata": {
    "scrolled": true
   },
   "outputs": [],
   "source": [
    "data = prepare_ts_data()\n",
    "data = data.reset_index()\n",
    "data[\"time_idx\"] = (data[\"ts\"] - data[\"ts\"].min()).dt.total_seconds().astype(int) // 3600 # This is from tutorial\n",
    "data[\"series_id\"] = 0\n",
    "\n",
    "model = TFTModel()\n",
    "model.fit(data)\n",
    "\n",
    "preds = model.predict(data) # Predict for all and postprocess later."
   ]
  },
  {
   "cell_type": "code",
   "execution_count": null,
   "id": "39ba0531-1c0a-4066-9d20-ffe24ddddea0",
   "metadata": {},
   "outputs": [],
   "source": []
  },
  {
   "cell_type": "markdown",
   "id": "60c6e7a2-11aa-42bb-8b7d-6a99db1dc108",
   "metadata": {},
   "source": [
    "### Evaluation\n",
    "\n",
    "- The TFT model shows promising performance, significantly outperforming the baseline (accuracy: 80% → 89%).\n",
    "- On the validation set, the outperformance is smaller, but still significant (accuracy: 90% → 94%).\n",
    "- Most errors are cases where the model predicted 0% change, but the actual change was +2%.\n",
    "\n",
    "### Conclusion\n",
    "\n",
    "- In my opinion, the results seem too good to be true, and I did not expect such performance solely from market data without any auxiliary data.\n",
    "- I’m not familiar enough with the library and the underlying literature to be entirely confident in the results, and further inspection is needed."
   ]
  },
  {
   "cell_type": "code",
   "execution_count": 85,
   "id": "dc246beb-08dd-43a1-b8c5-4252de7e9911",
   "metadata": {},
   "outputs": [
    {
     "name": "stdout",
     "output_type": "stream",
     "text": [
      "Test results\n",
      "Accuracy 0.8888888888888888\n"
     ]
    },
    {
     "data": {
      "image/png": "[encoded data removed]",
      "text/plain": [
       "<Figure size 600x400 with 2 Axes>"
      ]
     },
     "metadata": {},
     "output_type": "display_data"
    }
   ],
   "source": [
    "test_time_idx = data.query(\"split == 'test'\")['time_idx'].values\n",
    "\n",
    "i = 0 # Predict target in next row\n",
    "pred_value = preds.output[:, i].cpu().numpy()\n",
    "pred_idx = preds.x['decoder_time_idx'][:, i].cpu().numpy()\n",
    "\n",
    "\n",
    "data['pred'] = 0.0\n",
    "data.loc[pred_idx, 'pred'] = pred_value\n",
    "\n",
    "df_test = data.query(\"split == 'test'\").copy()\n",
    "df_test['pred_cat'] = df_test['pred'].apply(categorize_target)\n",
    "df_test = df_test[['ts', 'target', 'target_ret', 'pred', 'pred_cat']]\n",
    "df_test.to_csv('results/tft_test.csv')\n",
    "\n",
    "print('Test results')\n",
    "plot_cm(df_test['pred_cat'], df_test['target'])"
   ]
  },
  {
   "cell_type": "code",
   "execution_count": 82,
   "id": "ef66be2d-b22d-4342-ae6b-e747e2844611",
   "metadata": {},
   "outputs": [
    {
     "data": {
      "text/plain": [
       "array([ 5.2971300e-04,  1.4626230e-03,  1.4334368e-03, ...,\n",
       "        2.5584812e-03,  8.2366110e-05, -1.0099015e-03], dtype=float32)"
      ]
     },
     "execution_count": 82,
     "metadata": {},
     "output_type": "execute_result"
    }
   ],
   "source": [
    "pred_value"
   ]
  },
  {
   "cell_type": "code",
   "execution_count": 84,
   "id": "585ad876-72f2-42b8-9018-2ca7b16e48e7",
   "metadata": {},
   "outputs": [
    {
     "name": "stdout",
     "output_type": "stream",
     "text": [
      "Validation results\n",
      "Accuracy 0.9475806451612904\n"
     ]
    },
    {
     "data": {
      "image/png": "[encoded data removed]",
      "text/plain": [
       "<Figure size 600x400 with 2 Axes>"
      ]
     },
     "metadata": {},
     "output_type": "display_data"
    }
   ],
   "source": [
    "val_time_idx = data.query(\"split == 'val'\")['time_idx'].values\n",
    "i = 0\n",
    "pred_value = preds.output[:, i].cpu().numpy()\n",
    "pred_idx = preds.x['decoder_time_idx'][:, i].cpu().numpy()\n",
    "\n",
    "\n",
    "data['pred'] = 0.0\n",
    "data.loc[pred_idx, 'pred'] = pred_value\n",
    "\n",
    "df_val = data.query(\"split == 'val'\").copy()\n",
    "df_val['pred_cat'] = df_val['pred'].apply(categorize_target)\n",
    "df_val = df_val[['ts', 'target', 'target_ret', 'pred', 'pred_cat']]\n",
    "df_val.to_csv('results/tft_val.csv')\n",
    "\n",
    "\n",
    "print('Validation results')\n",
    "plot_cm(df_val['pred_cat'], df_val['target'])"
   ]
  },
  {
   "cell_type": "code",
   "execution_count": null,
   "id": "5d2801ea-182a-40ec-a7d3-71090d6e570a",
   "metadata": {},
   "outputs": [],
   "source": []
  },
  {
   "cell_type": "code",
   "execution_count": null,
   "id": "b49daed9-b79a-443e-852d-dad2f28efebb",
   "metadata": {},
   "outputs": [],
   "source": []
  }
 ],
 "metadata": {
  "kernelspec": {
   "display_name": "Python 3 (ipykernel)",
   "language": "python",
   "name": "python3"
  },
  "language_info": {
   "codemirror_mode": {
    "name": "ipython",
    "version": 3
   },
   "file_extension": ".py",
   "mimetype": "text/x-python",
   "name": "python",
   "nbconvert_exporter": "python",
   "pygments_lexer": "ipython3",
   "version": "3.10.12"
  }
 },
 "nbformat": 4,
 "nbformat_minor": 5
}
